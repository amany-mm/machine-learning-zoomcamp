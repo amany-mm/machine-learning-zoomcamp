{
 "cells": [
  {
   "cell_type": "code",
   "execution_count": 211,
   "id": "4e263681-3a0c-4ae0-8dcf-9499c97a5a44",
   "metadata": {},
   "outputs": [
    {
     "name": "stdout",
     "output_type": "stream",
     "text": [
      "--- Homework -- \n",
      "\n"
     ]
    },
    {
     "data": {
      "text/plain": [
       "\"      \\nNote: sometimes your answer doesn't match one of the options exactly. That's fine. Select the option that's closest to your solution.\\n\\nDataset\\nFor this homework, we'll use the Car Fuel Efficiency dataset. Download it from here.\\n\\nYou can do it with wget:\\n\\nwget https://raw.githubusercontent.com/alexeygrigorev/datasets/master/car_fuel_efficiency.csv\\nThe goal of this homework is to create a regression model for predicting the car fuel efficiency (column 'fuel_efficiency_mpg').\\n\\nPreparing the dataset\\nUse only the following columns:\\n\\n'engine_displacement',\\n'horsepower',\\n'vehicle_weight',\\n'model_year',\\n'fuel_efficiency_mpg'\\nEDA\\nLook at the fuel_efficiency_mpg variable. Does it have a long tail?\\n\""
      ]
     },
     "execution_count": 211,
     "metadata": {},
     "output_type": "execute_result"
    }
   ],
   "source": [
    "print(\"--- Homework -- \\n\")\n",
    "'''      \n",
    "Note: sometimes your answer doesn't match one of the options exactly. That's fine. Select the option that's closest to your solution.\n",
    "\n",
    "Dataset\n",
    "For this homework, we'll use the Car Fuel Efficiency dataset. Download it from here.\n",
    "\n",
    "You can do it with wget:\n",
    "\n",
    "wget https://raw.githubusercontent.com/alexeygrigorev/datasets/master/car_fuel_efficiency.csv\n",
    "The goal of this homework is to create a regression model for predicting the car fuel efficiency (column 'fuel_efficiency_mpg').\n",
    "\n",
    "Preparing the dataset\n",
    "Use only the following columns:\n",
    "\n",
    "'engine_displacement',\n",
    "'horsepower',\n",
    "'vehicle_weight',\n",
    "'model_year',\n",
    "'fuel_efficiency_mpg'\n",
    "EDA\n",
    "Look at the fuel_efficiency_mpg variable. Does it have a long tail?\n",
    "'''"
   ]
  },
  {
   "cell_type": "code",
   "execution_count": 212,
   "id": "77cf66f9-e697-4a3c-bfd2-121b7de976c7",
   "metadata": {},
   "outputs": [],
   "source": [
    "# -- Data loading and selection of specific columns --- "
   ]
  },
  {
   "cell_type": "code",
   "execution_count": 213,
   "id": "54acf7bc-1a19-4fae-87fc-8ab18491135b",
   "metadata": {},
   "outputs": [],
   "source": [
    "import pandas as pd"
   ]
  },
  {
   "cell_type": "code",
   "execution_count": 214,
   "id": "fc6c64e3-eec4-4b49-99c2-cb15473edd45",
   "metadata": {},
   "outputs": [],
   "source": [
    "car_fuel_efficiency_data = 'https://raw.githubusercontent.com/alexeygrigorev/datasets/master/car_fuel_efficiency.csv'"
   ]
  },
  {
   "cell_type": "code",
   "execution_count": 215,
   "id": "d6713ff2-0840-4015-b3f0-2bb60390937c",
   "metadata": {},
   "outputs": [
    {
     "name": "stdout",
     "output_type": "stream",
     "text": [
      "--2025-10-08 23:48:20--  https://raw.githubusercontent.com/alexeygrigorev/datasets/master/car_fuel_efficiency.csv\n",
      "Resolving raw.githubusercontent.com (raw.githubusercontent.com)... 185.199.110.133, 185.199.109.133, 185.199.108.133, ...\n",
      "Connecting to raw.githubusercontent.com (raw.githubusercontent.com)|185.199.110.133|:443... connected.\n",
      "HTTP request sent, awaiting response... 200 OK\n",
      "Length: 874188 (854K) [text/plain]\n",
      "Saving to: ‘car_fuel_efficiency.csv.5’\n",
      "\n",
      "car_fuel_efficiency 100%[===================>] 853.70K  2.48MB/s    in 0.3s    \n",
      "\n",
      "2025-10-08 23:48:21 (2.48 MB/s) - ‘car_fuel_efficiency.csv.5’ saved [874188/874188]\n",
      "\n"
     ]
    }
   ],
   "source": [
    "!wget $car_fuel_efficiency_data"
   ]
  },
  {
   "cell_type": "code",
   "execution_count": 216,
   "id": "bd4312a5-133f-47c9-8a3f-6d12b9ef6d00",
   "metadata": {},
   "outputs": [],
   "source": [
    "df = pd.read_csv('car_fuel_efficiency.csv')"
   ]
  },
  {
   "cell_type": "code",
   "execution_count": 217,
   "id": "15e7794e-5d85-433f-a906-fbcbbfa79d6b",
   "metadata": {},
   "outputs": [
    {
     "data": {
      "text/plain": [
       "Index(['engine_displacement', 'num_cylinders', 'horsepower', 'vehicle_weight',\n",
       "       'acceleration', 'model_year', 'origin', 'fuel_type', 'drivetrain',\n",
       "       'num_doors', 'fuel_efficiency_mpg'],\n",
       "      dtype='object')"
      ]
     },
     "execution_count": 217,
     "metadata": {},
     "output_type": "execute_result"
    }
   ],
   "source": [
    "df.columns"
   ]
  },
  {
   "cell_type": "code",
   "execution_count": 218,
   "id": "a306d5ae-4060-4852-8b5b-e6a605f90364",
   "metadata": {},
   "outputs": [],
   "source": [
    "selected_columns = ['engine_displacement', 'horsepower',\n",
    "           'vehicle_weight', 'model_year', 'fuel_efficiency_mpg']"
   ]
  },
  {
   "cell_type": "code",
   "execution_count": 219,
   "id": "79f6412d-8c25-463f-ab29-436bc2b54834",
   "metadata": {},
   "outputs": [],
   "source": [
    "df_filtered = df[selected_columns].copy()"
   ]
  },
  {
   "cell_type": "code",
   "execution_count": 220,
   "id": "51be98ab-edb8-4f1a-9acb-749e10aeb1b3",
   "metadata": {},
   "outputs": [
    {
     "data": {
      "text/html": [
       "<div>\n",
       "<style scoped>\n",
       "    .dataframe tbody tr th:only-of-type {\n",
       "        vertical-align: middle;\n",
       "    }\n",
       "\n",
       "    .dataframe tbody tr th {\n",
       "        vertical-align: top;\n",
       "    }\n",
       "\n",
       "    .dataframe thead th {\n",
       "        text-align: right;\n",
       "    }\n",
       "</style>\n",
       "<table border=\"1\" class=\"dataframe\">\n",
       "  <thead>\n",
       "    <tr style=\"text-align: right;\">\n",
       "      <th></th>\n",
       "      <th>engine_displacement</th>\n",
       "      <th>horsepower</th>\n",
       "      <th>vehicle_weight</th>\n",
       "      <th>model_year</th>\n",
       "      <th>fuel_efficiency_mpg</th>\n",
       "    </tr>\n",
       "  </thead>\n",
       "  <tbody>\n",
       "    <tr>\n",
       "      <th>0</th>\n",
       "      <td>170</td>\n",
       "      <td>159.0</td>\n",
       "      <td>3413.433759</td>\n",
       "      <td>2003</td>\n",
       "      <td>13.231729</td>\n",
       "    </tr>\n",
       "    <tr>\n",
       "      <th>1</th>\n",
       "      <td>130</td>\n",
       "      <td>97.0</td>\n",
       "      <td>3149.664934</td>\n",
       "      <td>2007</td>\n",
       "      <td>13.688217</td>\n",
       "    </tr>\n",
       "    <tr>\n",
       "      <th>2</th>\n",
       "      <td>170</td>\n",
       "      <td>78.0</td>\n",
       "      <td>3079.038997</td>\n",
       "      <td>2018</td>\n",
       "      <td>14.246341</td>\n",
       "    </tr>\n",
       "    <tr>\n",
       "      <th>3</th>\n",
       "      <td>220</td>\n",
       "      <td>NaN</td>\n",
       "      <td>2542.392402</td>\n",
       "      <td>2009</td>\n",
       "      <td>16.912736</td>\n",
       "    </tr>\n",
       "    <tr>\n",
       "      <th>4</th>\n",
       "      <td>210</td>\n",
       "      <td>140.0</td>\n",
       "      <td>3460.870990</td>\n",
       "      <td>2009</td>\n",
       "      <td>12.488369</td>\n",
       "    </tr>\n",
       "    <tr>\n",
       "      <th>...</th>\n",
       "      <td>...</td>\n",
       "      <td>...</td>\n",
       "      <td>...</td>\n",
       "      <td>...</td>\n",
       "      <td>...</td>\n",
       "    </tr>\n",
       "    <tr>\n",
       "      <th>9699</th>\n",
       "      <td>140</td>\n",
       "      <td>164.0</td>\n",
       "      <td>2981.107371</td>\n",
       "      <td>2013</td>\n",
       "      <td>15.101802</td>\n",
       "    </tr>\n",
       "    <tr>\n",
       "      <th>9700</th>\n",
       "      <td>180</td>\n",
       "      <td>154.0</td>\n",
       "      <td>2439.525729</td>\n",
       "      <td>2004</td>\n",
       "      <td>17.962326</td>\n",
       "    </tr>\n",
       "    <tr>\n",
       "      <th>9701</th>\n",
       "      <td>220</td>\n",
       "      <td>138.0</td>\n",
       "      <td>2583.471318</td>\n",
       "      <td>2008</td>\n",
       "      <td>17.186587</td>\n",
       "    </tr>\n",
       "    <tr>\n",
       "      <th>9702</th>\n",
       "      <td>230</td>\n",
       "      <td>177.0</td>\n",
       "      <td>2905.527390</td>\n",
       "      <td>2011</td>\n",
       "      <td>15.331551</td>\n",
       "    </tr>\n",
       "    <tr>\n",
       "      <th>9703</th>\n",
       "      <td>270</td>\n",
       "      <td>140.0</td>\n",
       "      <td>2908.043477</td>\n",
       "      <td>2005</td>\n",
       "      <td>14.884467</td>\n",
       "    </tr>\n",
       "  </tbody>\n",
       "</table>\n",
       "<p>9704 rows × 5 columns</p>\n",
       "</div>"
      ],
      "text/plain": [
       "      engine_displacement  horsepower  vehicle_weight  model_year  \\\n",
       "0                     170       159.0     3413.433759        2003   \n",
       "1                     130        97.0     3149.664934        2007   \n",
       "2                     170        78.0     3079.038997        2018   \n",
       "3                     220         NaN     2542.392402        2009   \n",
       "4                     210       140.0     3460.870990        2009   \n",
       "...                   ...         ...             ...         ...   \n",
       "9699                  140       164.0     2981.107371        2013   \n",
       "9700                  180       154.0     2439.525729        2004   \n",
       "9701                  220       138.0     2583.471318        2008   \n",
       "9702                  230       177.0     2905.527390        2011   \n",
       "9703                  270       140.0     2908.043477        2005   \n",
       "\n",
       "      fuel_efficiency_mpg  \n",
       "0               13.231729  \n",
       "1               13.688217  \n",
       "2               14.246341  \n",
       "3               16.912736  \n",
       "4               12.488369  \n",
       "...                   ...  \n",
       "9699            15.101802  \n",
       "9700            17.962326  \n",
       "9701            17.186587  \n",
       "9702            15.331551  \n",
       "9703            14.884467  \n",
       "\n",
       "[9704 rows x 5 columns]"
      ]
     },
     "execution_count": 220,
     "metadata": {},
     "output_type": "execute_result"
    }
   ],
   "source": [
    "df_filtered"
   ]
  },
  {
   "cell_type": "code",
   "execution_count": 221,
   "id": "1b8e8b17-448e-4e37-b261-88bb7c49fc48",
   "metadata": {},
   "outputs": [],
   "source": [
    "# -- Exploratory Data Analysis(EDA) for fuel_efficiency_mpg(long tail check)."
   ]
  },
  {
   "cell_type": "code",
   "execution_count": 222,
   "id": "7f268730-ac42-4077-b5bc-b72d73a2f6fb",
   "metadata": {},
   "outputs": [
    {
     "data": {
      "image/png": "[encoded data removed]",
      "text/plain": [
       "<Figure size 800x500 with 1 Axes>"
      ]
     },
     "metadata": {},
     "output_type": "display_data"
    }
   ],
   "source": [
    "# Plot histogram of 'fuel_efficiency_mpg'\n",
    "\n",
    "plt.figure(figsize=(8, 5))\n",
    "sns.histplot(df_filtered['fuel_efficiency_mpg'], bins=30, kde=True)\n",
    "plt.title('Distribution of Fuel Efficiency (mpg)')\n",
    "plt.xlabel('Fuel Efficiency (mpg)')\n",
    "plt.ylabel('Frequency')\n",
    "plt.show()\n"
   ]
  },
  {
   "cell_type": "code",
   "execution_count": 223,
   "id": "5e5083ce-2791-4677-84ca-da6d0a43714d",
   "metadata": {},
   "outputs": [
    {
     "name": "stdout",
     "output_type": "stream",
     "text": [
      "Skewness of 'fuel_efficiency_mpg': -0.01\n",
      "The 'fuel_efficiency_mpg' variable does not appear to have a significant long tail.\n"
     ]
    }
   ],
   "source": [
    "\n",
    "# Check skewness\n",
    "skewness = df_filtered['fuel_efficiency_mpg'].skew()\n",
    "\n",
    "print(f\"Skewness of 'fuel_efficiency_mpg': {skewness:.2f}\")\n",
    "\n",
    "if skewness > 0.5:  # A common threshold for significant positive skewness\n",
    "    print(\"The 'fuel_efficiency_mpg' variable appears to have a long tail (positively skewed).\")\n",
    "else:\n",
    "    print(\"The 'fuel_efficiency_mpg' variable does not appear to have a significant long tail.\")\n"
   ]
  },
  {
   "cell_type": "code",
   "execution_count": 224,
   "id": "77bdc5c4-66f6-428a-8145-e75ff5146f06",
   "metadata": {},
   "outputs": [
    {
     "name": "stdout",
     "output_type": "stream",
     "text": [
      "--- Question 1: Column with missing values ---\n",
      "Missing values per column:\n",
      " horsepower    708\n",
      "dtype: int64\n"
     ]
    }
   ],
   "source": [
    "# --- Question 1 ---\n",
    "'''\n",
    "There's one column with missing values. What is it?\n",
    "\n",
    "- 'engine_displacement'\n",
    "- 'horsepower'\n",
    "- 'vehicle_weight'\n",
    "- 'model_year'\n",
    "\n",
    "'''\n"
   ]
  },
  {
   "cell_type": "code",
   "execution_count": 264,
   "id": "39b50163-0688-4774-ba98-8267229ae0c6",
   "metadata": {},
   "outputs": [
    {
     "name": "stdout",
     "output_type": "stream",
     "text": [
      "--- Question 1: Column with missing values ---\n",
      "Missing values per column:\n",
      " horsepower    708\n",
      "dtype: int64\n"
     ]
    }
   ],
   "source": [
    "print(\"--- Question 1: Column with missing values ---\")\n",
    "missing_values = df_filtered.isnull().sum()\n",
    "\n",
    "print(\"Missing values per column:\\n\", missing_values[missing_values > 0])"
   ]
  },
  {
   "cell_type": "code",
   "execution_count": 225,
   "id": "5e974886-04de-4dc9-a6e5-5af4642f8558",
   "metadata": {},
   "outputs": [
    {
     "name": "stdout",
     "output_type": "stream",
     "text": [
      "--- Question 2: Median of 'horsepower' ---\n",
      "The median (50% percentile) for 'horsepower' is: 149.0\n"
     ]
    }
   ],
   "source": [
    "# --- Question 2 ---\n",
    "'''\n",
    "What's the median (50% percentile) for variable 'horsepower'?\n",
    "\n",
    "- 49\n",
    "- 99\n",
    "- 149\n",
    "- 199\n",
    "'''\n"
   ]
  },
  {
   "cell_type": "code",
   "execution_count": 265,
   "id": "c0668cae-ca9e-4345-b653-4815d55cac58",
   "metadata": {},
   "outputs": [
    {
     "name": "stdout",
     "output_type": "stream",
     "text": [
      "--- Question 2: Median of 'horsepower' ---\n",
      "The median (50% percentile) for 'horsepower' is: 149.0\n"
     ]
    }
   ],
   "source": [
    "print(\"--- Question 2: Median of 'horsepower' ---\")\n",
    "median_horsepower = df_filtered['horsepower'].median()\n",
    "\n",
    "print(f\"The median (50% percentile) for 'horsepower' is: {median_horsepower}\")"
   ]
  },
  {
   "cell_type": "code",
   "execution_count": 266,
   "id": "33bb0c9e-649d-4bb3-adbe-c619797126ae",
   "metadata": {},
   "outputs": [
    {
     "name": "stdout",
     "output_type": "stream",
     "text": [
      "--- Preparing and splitting the dataset ---\n"
     ]
    },
    {
     "data": {
      "text/plain": [
       "(1940, 1940, 5824)"
      ]
     },
     "execution_count": 266,
     "metadata": {},
     "output_type": "execute_result"
    }
   ],
   "source": [
    "## -- Shuffle the dataset (the filtered one you created above), use seed 42.\n",
    "''' Split your data in train/val/test sets, with 60%/20%/20% distribution.\n",
    "Use the same code as in the lectures\n",
    "'''\n",
    "\n",
    "print(\"--- Preparing and splitting the dataset ---\")\n",
    "np.random.seed(42)\n",
    "n = len(df_filtered)\n",
    "\n",
    "n_val = int(0.2 * n)\n",
    "n_test = int(0.2 * n)\n",
    "n_train = n - n_val - n_test\n",
    "\n",
    "n_val, n_test, n_train"
   ]
  },
  {
   "cell_type": "code",
   "execution_count": 227,
   "id": "3bdf5cf4-04aa-4621-8dad-bc3ae3731744",
   "metadata": {},
   "outputs": [],
   "source": [
    "idx = np.arange(n)\n",
    "np.random.shuffle(idx)"
   ]
  },
  {
   "cell_type": "code",
   "execution_count": 228,
   "id": "9bfd485d-120c-441b-b70a-a73fb5235dc0",
   "metadata": {},
   "outputs": [],
   "source": [
    "df_shuffled = df_filtered.iloc[idx].reset_index(drop=True)"
   ]
  },
  {
   "cell_type": "code",
   "execution_count": 229,
   "id": "fabac071-61ee-4076-805e-707087d1602d",
   "metadata": {},
   "outputs": [],
   "source": [
    "df_train = df_shuffled.iloc[:n_train].copy()\n",
    "df_val = df_shuffled.iloc[n_train:n_train + n_val].copy()\n",
    "df_test = df_shuffled.iloc[n_train + n_val:].copy()"
   ]
  },
  {
   "cell_type": "code",
   "execution_count": 230,
   "id": "0b88c886-ee5b-4969-9bb7-91d7fd4708b6",
   "metadata": {},
   "outputs": [
    {
     "data": {
      "text/plain": [
       "(array([16.64294342, 16.29837715, 18.59182197, ..., 17.59323665,\n",
       "        18.92574819, 17.96528447]),\n",
       " array([15.36634109, 14.60118181, 12.24703219, ..., 13.61312692,\n",
       "        13.73334321, 15.81604972]),\n",
       " array([15.80435416, 14.27237387, 11.74844072, ..., 18.40443466,\n",
       "        20.50246014, 16.81624056]))"
      ]
     },
     "execution_count": 230,
     "metadata": {},
     "output_type": "execute_result"
    }
   ],
   "source": [
    "y_train = df_train['fuel_efficiency_mpg'].values\n",
    "y_val = df_val['fuel_efficiency_mpg'].values\n",
    "y_test = df_test['fuel_efficiency_mpg'].values\n",
    "\n",
    "y_train, y_val, y_test"
   ]
  },
  {
   "cell_type": "code",
   "execution_count": 231,
   "id": "3103b514-9c9e-4303-9695-7b3c16fbbc7b",
   "metadata": {},
   "outputs": [],
   "source": [
    "del df_train['fuel_efficiency_mpg']\n",
    "del df_val['fuel_efficiency_mpg']\n",
    "del df_test['fuel_efficiency_mpg']"
   ]
  },
  {
   "cell_type": "code",
   "execution_count": 232,
   "id": "8cc1dd63-492b-4676-8ac8-4a97a4236ca0",
   "metadata": {},
   "outputs": [
    {
     "name": "stdout",
     "output_type": "stream",
     "text": [
      "Train set size: 5824\n",
      "Validation set size: 1940\n",
      "Test set size: 1940\n"
     ]
    }
   ],
   "source": [
    "print(f\"Train set size: {len(df_train)}\")\n",
    "print(f\"Validation set size: {len(df_val)}\")\n",
    "print(f\"Test set size: {len(df_test)}\")"
   ]
  },
  {
   "cell_type": "code",
   "execution_count": 233,
   "id": "5e1af7cc-9d6f-4fca-959f-a7371ba9228a",
   "metadata": {},
   "outputs": [],
   "source": [
    "# --- Linear Regression Functions ---"
   ]
  },
  {
   "cell_type": "code",
   "execution_count": 234,
   "id": "336da198-8ad5-4853-a0c1-cab0cf5b2cc6",
   "metadata": {},
   "outputs": [],
   "source": [
    "def train_linear_regression(X, y):\n",
    "    ones = np.ones(X.shape[0])\n",
    "    X = np.column_stack([ones, X])\n",
    "\n",
    "    XTX = X.T @ X\n",
    "    XTX_inv = np.linalg.inv(XTX)\n",
    "    w = XTX_inv @ X.T @ y\n",
    "\n",
    "    return w[0], w[1:]\n"
   ]
  },
  {
   "cell_type": "code",
   "execution_count": 235,
   "id": "40226047-aa08-49cf-bad7-40eb1db5eacf",
   "metadata": {},
   "outputs": [],
   "source": [
    "def train_linear_regression_reg(X, y, r=0.001):\n",
    "    ones = np.ones(X.shape[0])\n",
    "    X = np.column_stack([ones, X])\n",
    "\n",
    "    XTX = X.T @ X\n",
    "    XTX = XTX + r * np.eye(XTX.shape[0])  # Add regularization term\n",
    "\n",
    "    XTX_inv = np.linalg.inv(XTX)\n",
    "    w = XTX_inv @ X.T @ y\n",
    "\n",
    "    return w[0], w[1:]\n"
   ]
  },
  {
   "cell_type": "code",
   "execution_count": 236,
   "id": "63e43d67-0f9a-4a4d-a599-0f5ba96fc4a7",
   "metadata": {},
   "outputs": [],
   "source": [
    "def rmse(y, y_pred):\n",
    "    se = (y - y_pred) ** 2\n",
    "    mse = se.mean()\n",
    "    return np.sqrt(mse)"
   ]
  },
  {
   "cell_type": "code",
   "execution_count": 237,
   "id": "0c6075e6-872f-4d07-a8d5-0b93ad65d509",
   "metadata": {},
   "outputs": [
    {
     "data": {
      "text/plain": [
       "'\\nWe need to deal with missing values for the column from Q1.\\nWe have two options: fill it with 0 or with the mean of this variable.\\nTry both options. For each, train a linear regression model without regularization using the code from the lessons.\\nFor computing the mean, use the training only!\\nUse the validation dataset to evaluate the models and compare the RMSE of each option.\\nRound the RMSE scores to 2 decimal digits using round(score, 2)\\nWhich option gives better RMSE?\\nOptions:\\n\\n- With 0\\n- With mean\\n- Both are equally good\\n'"
      ]
     },
     "execution_count": 237,
     "metadata": {},
     "output_type": "execute_result"
    }
   ],
   "source": [
    "# --- Question 3 ---\n",
    "'''\n",
    "We need to deal with missing values for the column from Q1.\n",
    "We have two options: fill it with 0 or with the mean of this variable.\n",
    "Try both options. For each, train a linear regression model without regularization using the code from the lessons.\n",
    "For computing the mean, use the training only!\n",
    "Use the validation dataset to evaluate the models and compare the RMSE of each option.\n",
    "Round the RMSE scores to 2 decimal digits using round(score, 2)\n",
    "Which option gives better RMSE?\n",
    "Options:\n",
    "\n",
    "- With 0\n",
    "- With mean\n",
    "- Both are equally good\n",
    "'''"
   ]
  },
  {
   "cell_type": "code",
   "execution_count": 238,
   "id": "261026cb-7f96-4a0e-a68c-0fe1a5e7a5e8",
   "metadata": {},
   "outputs": [
    {
     "name": "stdout",
     "output_type": "stream",
     "text": [
      "--- Question 3: Missing value imputation comparison ---\n"
     ]
    }
   ],
   "source": [
    "print(\"--- Question 3: Missing value imputation comparison ---\")\n",
    "# The column with missing values is 'horsepower' based on Q1 output\n",
    "missing_col = 'horsepower'"
   ]
  },
  {
   "cell_type": "code",
   "execution_count": 239,
   "id": "1711fbcd-1aa5-4f4c-8e66-b764521cb90e",
   "metadata": {},
   "outputs": [],
   "source": [
    "# Option 1: Fill missing values with 0\n",
    "\n",
    "X_train_0 = df_train.fillna(0).values\n",
    "X_val_0 = df_val.fillna(0).values"
   ]
  },
  {
   "cell_type": "code",
   "execution_count": 267,
   "id": "0eaab5f0-799c-4af4-ae47-1e4bb92b7ddc",
   "metadata": {},
   "outputs": [
    {
     "name": "stdout",
     "output_type": "stream",
     "text": [
      "RMSE with filling missing values with 0: 0.52\n"
     ]
    }
   ],
   "source": [
    "w0_0, w_0 = train_linear_regression(X_train_0, y_train)\n",
    "y_pred_0 = w0_0 + X_val_0 @ w_0\n",
    "\n",
    "rmse_0 = round(rmse(y_val, y_pred_0), 2)\n",
    "print(f\"RMSE with filling missing values with 0: {rmse_0}\")"
   ]
  },
  {
   "cell_type": "code",
   "execution_count": 268,
   "id": "fbfc8630-d3d8-4b06-b00f-f71492a39b7b",
   "metadata": {},
   "outputs": [
    {
     "data": {
      "text/plain": [
       "(149.54476367006487,\n",
       " array([[ 220.        ,  144.        , 2535.88759124, 2009.        ],\n",
       "        [ 160.        ,  141.        , 2741.17048439, 2019.        ],\n",
       "        [ 230.        ,  155.        , 2471.88023726, 2017.        ],\n",
       "        ...,\n",
       "        [ 210.        ,  152.        , 2500.17568746, 2020.        ],\n",
       "        [ 250.        ,  154.        , 2254.31324473, 2002.        ],\n",
       "        [ 210.        ,  152.        , 2435.20360628, 2004.        ]]),\n",
       " array([[ 180.        ,  112.        , 2772.13441008, 2020.        ],\n",
       "        [ 260.        ,  138.        , 3014.06152983, 2022.        ],\n",
       "        [ 140.        ,  181.        , 3652.18615117, 2016.        ],\n",
       "        ...,\n",
       "        [ 230.        ,  202.        , 3303.00068812, 2008.        ],\n",
       "        [ 220.        ,  169.        , 3293.42025107, 2008.        ],\n",
       "        [ 200.        ,  117.        , 2692.7812918 , 2004.        ]]))"
      ]
     },
     "execution_count": 268,
     "metadata": {},
     "output_type": "execute_result"
    }
   ],
   "source": [
    "# Option 2: Fill missing values with the mean of the training set\n",
    "mean_value = df_train[missing_col].mean()\n",
    "X_train_mean = df_train.fillna(mean_value).values\n",
    "X_val_mean = df_val.fillna(mean_value).values\n",
    "\n",
    "mean_value, X_train_mean, X_val_mean"
   ]
  },
  {
   "cell_type": "code",
   "execution_count": 270,
   "id": "3fd39993-26f6-464b-8e2d-c178cd779a21",
   "metadata": {},
   "outputs": [
    {
     "name": "stdout",
     "output_type": "stream",
     "text": [
      "RMSE with filling missing values with mean: 0.46\n"
     ]
    }
   ],
   "source": [
    "w0_mean, w_mean = train_linear_regression(X_train_mean, y_train)\n",
    "y_pred_mean = w0_mean + X_val_mean @ w_mean\n",
    "\n",
    "rmse_mean = round(rmse(y_val, y_pred_mean), 2)\n",
    "print(f\"RMSE with filling missing values with mean: {rmse_mean}\")"
   ]
  },
  {
   "cell_type": "code",
   "execution_count": 243,
   "id": "5693ca5e-0f2e-4a7c-9be4-5d8039c1671a",
   "metadata": {},
   "outputs": [
    {
     "name": "stdout",
     "output_type": "stream",
     "text": [
      "Conclusion: Option 'With mean' gives better RMSE.\n"
     ]
    }
   ],
   "source": [
    "if rmse_0 < rmse_mean:\n",
    "    print(\"Option 'With 0' gives better RMSE.\")\n",
    "\n",
    "elif rmse_mean < rmse_0:\n",
    "    print(\"Option 'With mean' gives better RMSE.\")\n",
    "\n",
    "else:\n",
    "    print(\"Both options are equally good.\")"
   ]
  },
  {
   "cell_type": "code",
   "execution_count": 244,
   "id": "e3adfef4-144d-4b62-bc01-531f6641735c",
   "metadata": {},
   "outputs": [
    {
     "data": {
      "text/plain": [
       "\"\\nQuestion 4\\nNow let's train a regularized linear regression.\\nFor this question, fill the NAs with 0.\\nTry different values of r from this list: [0, 0.01, 0.1, 1, 5, 10, 100].\\nUse RMSE to evaluate the model on the validation dataset.\\nRound the RMSE scores to 2 decimal digits.\\nWhich r gives the best RMSE?\\nIf multiple options give the same best RMSE, select the smallest r.\\n\\nOptions:\\n\\n- 0\\n- 0.01\\n- 1\\n- 10\\n- 100\\n\""
      ]
     },
     "execution_count": 244,
     "metadata": {},
     "output_type": "execute_result"
    }
   ],
   "source": [
    "# --- Question 4 ---\n",
    "'''\n",
    "Question 4\n",
    "Now let's train a regularized linear regression.\n",
    "For this question, fill the NAs with 0.\n",
    "Try different values of r from this list: [0, 0.01, 0.1, 1, 5, 10, 100].\n",
    "Use RMSE to evaluate the model on the validation dataset.\n",
    "Round the RMSE scores to 2 decimal digits.\n",
    "Which r gives the best RMSE?\n",
    "If multiple options give the same best RMSE, select the smallest r.\n",
    "\n",
    "Options:\n",
    "\n",
    "- 0\n",
    "- 0.01\n",
    "- 1\n",
    "- 10\n",
    "- 100\n",
    "'''"
   ]
  },
  {
   "cell_type": "code",
   "execution_count": 271,
   "id": "0f5a8d96-de4d-4de2-9df9-7c088656d03b",
   "metadata": {},
   "outputs": [
    {
     "name": "stdout",
     "output_type": "stream",
     "text": [
      "--- Question 4: Regularized linear regression (r values) ---\n"
     ]
    },
    {
     "data": {
      "text/plain": [
       "(array([[ 220.        ,  144.        , 2535.88759124, 2009.        ],\n",
       "        [ 160.        ,  141.        , 2741.17048439, 2019.        ],\n",
       "        [ 230.        ,  155.        , 2471.88023726, 2017.        ],\n",
       "        ...,\n",
       "        [ 210.        ,  152.        , 2500.17568746, 2020.        ],\n",
       "        [ 250.        ,  154.        , 2254.31324473, 2002.        ],\n",
       "        [ 210.        ,  152.        , 2435.20360628, 2004.        ]]),\n",
       " array([[ 180.        ,  112.        , 2772.13441008, 2020.        ],\n",
       "        [ 260.        ,  138.        , 3014.06152983, 2022.        ],\n",
       "        [ 140.        ,  181.        , 3652.18615117, 2016.        ],\n",
       "        ...,\n",
       "        [ 230.        ,  202.        , 3303.00068812, 2008.        ],\n",
       "        [ 220.        ,  169.        , 3293.42025107, 2008.        ],\n",
       "        [ 200.        ,  117.        , 2692.7812918 , 2004.        ]]))"
      ]
     },
     "execution_count": 271,
     "metadata": {},
     "output_type": "execute_result"
    }
   ],
   "source": [
    "print(\"--- Question 4: Regularized linear regression (r values) ---\")\n",
    "\n",
    "# Fill missing values with 0 for this question\n",
    "X_train_filled_0 = df_train.fillna(0).values\n",
    "X_val_filled_0 = df_val.fillna(0).values\n",
    "\n",
    "X_train_filled_0, X_val_filled_0"
   ]
  },
  {
   "cell_type": "code",
   "execution_count": 246,
   "id": "44fe9970-bf31-43dc-bedb-cdd06c06caa2",
   "metadata": {},
   "outputs": [],
   "source": [
    "r_values = [0, 0.01, 0.1, 1, 5, 10, 100]\n",
    "rmse_scores_q4 = {}"
   ]
  },
  {
   "cell_type": "code",
   "execution_count": 247,
   "id": "a0aaec31-3e38-4f74-88bb-0de37d458f6e",
   "metadata": {},
   "outputs": [
    {
     "name": "stdout",
     "output_type": "stream",
     "text": [
      "r=0, RMSE: 0.52\n",
      "r=0.01, RMSE: 0.52\n",
      "r=0.1, RMSE: 0.52\n",
      "r=1, RMSE: 0.52\n",
      "r=5, RMSE: 0.52\n",
      "r=10, RMSE: 0.52\n",
      "r=100, RMSE: 0.52\n"
     ]
    }
   ],
   "source": [
    "for r in r_values:\n",
    "    w0, w = train_linear_regression_reg(X_train_filled_0, y_train, r=r)\n",
    "    y_pred = w0 + X_val_filled_0 @ w\n",
    "\n",
    "    score = round(rmse(y_val, y_pred), 2)\n",
    "    rmse_scores_q4[r] = score\n",
    "    print(f\"r={r}, RMSE: {score}\")"
   ]
  },
  {
   "cell_type": "code",
   "execution_count": 248,
   "id": "f65cb3a7-516c-431d-a201-a814c8d7092e",
   "metadata": {},
   "outputs": [
    {
     "name": "stdout",
     "output_type": "stream",
     "text": [
      "\n",
      "The r value that gives the best RMSE is: 0 with RMSE: 0.52\n"
     ]
    }
   ],
   "source": [
    "# Find the r that gives the best (lowest) RMSE\n",
    "# If multiple options give the same best RMSE, select the smallest r.\n",
    "best_r = min(rmse_scores_q4, key=lambda k: (rmse_scores_q4[k], k))\n",
    "\n",
    "print(\n",
    "    f\"\\nThe r value that gives the best RMSE is: {best_r} with RMSE: {rmse_scores_q4[best_r]}\")"
   ]
  },
  {
   "cell_type": "code",
   "execution_count": 249,
   "id": "a36dccd9-1438-4f3d-8e8f-1fa510d4aad7",
   "metadata": {},
   "outputs": [
    {
     "data": {
      "text/plain": [
       "\"\\nQuestion 5\\nWe used seed 42 for splitting the data. Let's find out how selecting the seed influences our score.\\nTry different seed values: [0, 1, 2, 3, 4, 5, 6, 7, 8, 9].\\nFor each seed, do the train/validation/test split with 60%/20%/20% distribution.\\nFill the missing values with 0 and train a model without regularization.\\nFor each seed, evaluate the model on the validation dataset and collect the RMSE scores.\\nWhat's the standard deviation of all the scores? To compute the standard deviation, use np.std.\\nRound the result to 3 decimal digits (round(std, 3))\\nWhat's the value of std?\\n\\n- 0.001\\n- 0.006\\n- 0.060\\n- 0.600\\n\\nNote: Standard deviation shows how different the values are. If it's low, then all values are approximately the same.\\nIf it's high, the values are different. If standard deviation of scores is low, then our model is stable.\\n\\n\""
      ]
     },
     "execution_count": 249,
     "metadata": {},
     "output_type": "execute_result"
    }
   ],
   "source": [
    "# --- Question 5 ---\n",
    "'''\n",
    "Question 5\n",
    "We used seed 42 for splitting the data. Let's find out how selecting the seed influences our score.\n",
    "Try different seed values: [0, 1, 2, 3, 4, 5, 6, 7, 8, 9].\n",
    "For each seed, do the train/validation/test split with 60%/20%/20% distribution.\n",
    "Fill the missing values with 0 and train a model without regularization.\n",
    "For each seed, evaluate the model on the validation dataset and collect the RMSE scores.\n",
    "What's the standard deviation of all the scores? To compute the standard deviation, use np.std.\n",
    "Round the result to 3 decimal digits (round(std, 3))\n",
    "What's the value of std?\n",
    "\n",
    "- 0.001\n",
    "- 0.006\n",
    "- 0.060\n",
    "- 0.600\n",
    "\n",
    "Note: Standard deviation shows how different the values are. If it's low, then all values are approximately the same.\n",
    "If it's high, the values are different. If standard deviation of scores is low, then our model is stable.\n",
    "\n",
    "'''"
   ]
  },
  {
   "cell_type": "code",
   "execution_count": 250,
   "id": "dfcb30e9-f4a6-4670-94c2-cb77c5958837",
   "metadata": {},
   "outputs": [
    {
     "name": "stdout",
     "output_type": "stream",
     "text": [
      "--- Question 5: Standard deviation of RMSE across different seeds ---\n"
     ]
    }
   ],
   "source": [
    "print(\"--- Question 5: Standard deviation of RMSE across different seeds ---\")\n",
    "\n",
    "seed_values = [0, 1, 2, 3, 4, 5, 6, 7, 8, 9]\n",
    "rmse_scores_seeds = []"
   ]
  },
  {
   "cell_type": "code",
   "execution_count": 251,
   "id": "b836d407-8e88-4bc9-90f3-bc3fbc76a3d5",
   "metadata": {},
   "outputs": [
    {
     "name": "stdout",
     "output_type": "stream",
     "text": [
      "Seed: 0, RMSE: 0.521\n",
      "Seed: 1, RMSE: 0.521\n",
      "Seed: 2, RMSE: 0.523\n",
      "Seed: 3, RMSE: 0.516\n",
      "Seed: 4, RMSE: 0.511\n",
      "Seed: 5, RMSE: 0.528\n",
      "Seed: 6, RMSE: 0.531\n",
      "Seed: 7, RMSE: 0.509\n",
      "Seed: 8, RMSE: 0.515\n",
      "Seed: 9, RMSE: 0.513\n"
     ]
    }
   ],
   "source": [
    "for seed in seed_values:\n",
    "    np.random.seed(seed)\n",
    "    n = len(df_filtered)\n",
    "\n",
    "    n_val = int(0.2 * n)\n",
    "    n_test = int(0.2 * n)\n",
    "    n_train = n - n_val - n_test\n",
    "\n",
    "    idx = np.arange(n)\n",
    "    np.random.shuffle(idx)\n",
    "\n",
    "    df_shuffled_seed = df_filtered.iloc[idx].reset_index(drop=True)\n",
    "\n",
    "    df_train_seed = df_shuffled_seed.iloc[:n_train].copy()\n",
    "    df_val_seed = df_shuffled_seed.iloc[n_train:n_train + n_val].copy()\n",
    "\n",
    "    y_train_seed = df_train_seed['fuel_efficiency_mpg'].values\n",
    "    y_val_seed = df_val_seed['fuel_efficiency_mpg'].values\n",
    "\n",
    "    del df_train_seed['fuel_efficiency_mpg']\n",
    "    del df_val_seed['fuel_efficiency_mpg']\n",
    "\n",
    "    # Fill missing values with 0\n",
    "    X_train_seed = df_train_seed.fillna(0).values\n",
    "    X_val_seed = df_val_seed.fillna(0).values\n",
    "\n",
    "    # Train a model without regularization (r=0)\n",
    "    w0_seed, w_seed = train_linear_regression(X_train_seed, y_train_seed)\n",
    "    y_pred_seed = w0_seed + X_val_seed @ w_seed\n",
    "    score_seed = rmse(y_val_seed, y_pred_seed)\n",
    "    rmse_scores_seeds.append(score_seed)\n",
    "\n",
    "    print(f\"Seed: {seed}, RMSE: {score_seed:.3f}\")"
   ]
  },
  {
   "cell_type": "code",
   "execution_count": 252,
   "id": "7bbdd9d2-3362-4821-9d85-6f01b1735943",
   "metadata": {},
   "outputs": [
    {
     "name": "stdout",
     "output_type": "stream",
     "text": [
      "\n",
      "Standard deviation of RMSE scores: 0.007\n"
     ]
    }
   ],
   "source": [
    "# Calculate the standard deviation of the RMSE scores\n",
    "std_rmse = np.std(rmse_scores_seeds)\n",
    "print(f\"\\nStandard deviation of RMSE scores: {round(std_rmse, 3)}\")"
   ]
  },
  {
   "cell_type": "code",
   "execution_count": 253,
   "id": "f4d07ced-f59d-46a8-898a-efb6aed87524",
   "metadata": {},
   "outputs": [
    {
     "data": {
      "text/plain": [
       "\"\\nSplit the dataset like previously, use seed 9.\\nCombine train and validation datasets.\\nFill the missing values with 0 and train a model with r=0.001.\\nWhat's the RMSE on the test dataset?\\nOptions:\\n\\n0.15\\n0.515\\n5.15\\n51.5\\n\""
      ]
     },
     "execution_count": 253,
     "metadata": {},
     "output_type": "execute_result"
    }
   ],
   "source": [
    "# --- Question 6 ---\n",
    "'''\n",
    "Split the dataset like previously, use seed 9.\n",
    "Combine train and validation datasets.\n",
    "Fill the missing values with 0 and train a model with r=0.001.\n",
    "What's the RMSE on the test dataset?\n",
    "Options:\n",
    "\n",
    "0.15\n",
    "0.515\n",
    "5.15\n",
    "51.5\n",
    "'''"
   ]
  },
  {
   "cell_type": "code",
   "execution_count": 272,
   "id": "9aeda2a9-e601-40e6-b2b6-1501ac7a318b",
   "metadata": {},
   "outputs": [
    {
     "name": "stdout",
     "output_type": "stream",
     "text": [
      "--- Question 6: RMSE on test dataset with combined train/val and r=0.001 ---\n"
     ]
    },
    {
     "data": {
      "text/plain": [
       "(1940, 1940, 5824)"
      ]
     },
     "execution_count": 272,
     "metadata": {},
     "output_type": "execute_result"
    }
   ],
   "source": [
    "print(\"--- Question 6: RMSE on test dataset with combined train/val and r=0.001 ---\")\n",
    "# Use seed 9 for splitting\n",
    "seed_q6 = 9\n",
    "np.random.seed(seed_q6)\n",
    "n = len(df_filtered)\n",
    "\n",
    "n_val = int(0.2 * n)\n",
    "n_test = int(0.2 * n)\n",
    "n_train = n - n_val - n_test\n",
    "\n",
    "n_val, n_test, n_train"
   ]
  },
  {
   "cell_type": "code",
   "execution_count": 255,
   "id": "381620d1-254c-4da4-a33b-4508a15ef553",
   "metadata": {},
   "outputs": [],
   "source": [
    "idx = np.arange(n)\n",
    "np.random.shuffle(idx)"
   ]
  },
  {
   "cell_type": "code",
   "execution_count": 256,
   "id": "b3bad8c5-279b-4d57-a156-457ceaa98799",
   "metadata": {},
   "outputs": [],
   "source": [
    "df_shuffled_q6 = df_filtered.iloc[idx].reset_index(drop=True)"
   ]
  },
  {
   "cell_type": "code",
   "execution_count": 273,
   "id": "a55f8041-54d2-4837-a490-fcbbac9247d8",
   "metadata": {},
   "outputs": [
    {
     "data": {
      "text/plain": [
       "(      engine_displacement  horsepower  vehicle_weight  model_year  \\\n",
       " 0                     240       136.0     4050.512290        2006   \n",
       " 1                     190       141.0     3195.866942        2017   \n",
       " 2                     200       184.0     3006.164370        2017   \n",
       " 3                     200         NaN     2947.143980        2022   \n",
       " 4                     250       132.0     3114.371978        2001   \n",
       " ...                   ...         ...             ...         ...   \n",
       " 5819                  260       161.0     3022.148840        2021   \n",
       " 5820                  140         NaN     3927.946098        2016   \n",
       " 5821                  210       158.0     3766.753097        2015   \n",
       " 5822                  140       166.0     2683.147833        2008   \n",
       " 5823                  200       164.0     2379.938488        2004   \n",
       " \n",
       "       fuel_efficiency_mpg  \n",
       " 0               10.304700  \n",
       " 1               13.479434  \n",
       " 2               16.190653  \n",
       " 3               15.446503  \n",
       " 4               14.472172  \n",
       " ...                   ...  \n",
       " 5819            14.769735  \n",
       " 5820            10.363254  \n",
       " 5821            10.592435  \n",
       " 5822            17.119261  \n",
       " 5823            18.114504  \n",
       " \n",
       " [5824 rows x 5 columns],\n",
       "       engine_displacement  horsepower  vehicle_weight  model_year  \\\n",
       " 5824                  180       175.0     2775.381743        2014   \n",
       " 5825                  160       166.0     3542.655183        2012   \n",
       " 5826                  250       173.0     1354.787120        2007   \n",
       " 5827                  260        75.0     2531.997079        2005   \n",
       " 5828                  250       175.0     2609.369103        2004   \n",
       " ...                   ...         ...             ...         ...   \n",
       " 7759                  200       167.0     3470.715658        2003   \n",
       " 7760                  180       144.0     3605.310144        2016   \n",
       " 7761                  180       154.0     3346.965671        2018   \n",
       " 7762                  210       152.0     2500.175687        2020   \n",
       " 7763                  260       174.0     2702.257301        2011   \n",
       " \n",
       "       fuel_efficiency_mpg  \n",
       " 5824            15.931657  \n",
       " 5825            13.130355  \n",
       " 5826            22.858156  \n",
       " 5827            16.399893  \n",
       " 5828            17.464552  \n",
       " ...                   ...  \n",
       " 7759            12.850141  \n",
       " 7760            11.681418  \n",
       " 7761            13.678140  \n",
       " 7762            17.593237  \n",
       " 7763            16.068975  \n",
       " \n",
       " [1940 rows x 5 columns],\n",
       "       engine_displacement  horsepower  vehicle_weight  model_year  \\\n",
       " 7764                  240         NaN     3629.912976        2003   \n",
       " 7765                  230       183.0     2675.510371        2011   \n",
       " 7766                  270       176.0     3751.005987        2017   \n",
       " 7767                  130       174.0     2703.817442        2017   \n",
       " 7768                  240         NaN     2765.931806        2017   \n",
       " ...                   ...         ...             ...         ...   \n",
       " 9699                  130       190.0     2929.265698        2018   \n",
       " 9700                  270       127.0     3489.985764        2017   \n",
       " 9701                  240       177.0     3348.840052        2010   \n",
       " 9702                  250       150.0     2985.704630        2022   \n",
       " 9703                  230       192.0     3124.473642        2014   \n",
       " \n",
       "       fuel_efficiency_mpg  \n",
       " 7764            11.675791  \n",
       " 7765            16.730326  \n",
       " 7766            11.831028  \n",
       " 7767            17.360789  \n",
       " 7768            15.765597  \n",
       " ...                   ...  \n",
       " 9699            16.408894  \n",
       " 9700            12.502945  \n",
       " 9701            13.245621  \n",
       " 9702            15.215270  \n",
       " 9703            14.509000  \n",
       " \n",
       " [1940 rows x 5 columns])"
      ]
     },
     "execution_count": 273,
     "metadata": {},
     "output_type": "execute_result"
    }
   ],
   "source": [
    "df_train_q6 = df_shuffled_q6.iloc[:n_train].copy()\n",
    "df_val_q6 = df_shuffled_q6.iloc[n_train:n_train + n_val].copy()\n",
    "df_test_q6 = df_shuffled_q6.iloc[n_train + n_val:].copy()\n",
    "\n",
    "df_train_q6, df_val_q6, df_test_q6"
   ]
  },
  {
   "cell_type": "code",
   "execution_count": 258,
   "id": "71f11c92-271b-48a9-8ac4-16d8c8d9f110",
   "metadata": {},
   "outputs": [],
   "source": [
    "# Combine train and validation datasets\n",
    "df_train_full = pd.concat([df_train_q6, df_val_q6])"
   ]
  },
  {
   "cell_type": "code",
   "execution_count": 259,
   "id": "0191e0fc-7cb9-4328-9613-569e1a7bbd58",
   "metadata": {},
   "outputs": [
    {
     "data": {
      "text/plain": [
       "(array([10.30469994, 13.47943378, 16.19065297, ..., 13.67814034,\n",
       "        17.59323665, 16.06897494]),\n",
       " array([11.67579118, 16.7303261 , 11.83102773, ..., 13.24562126,\n",
       "        15.21527037, 14.50900005]))"
      ]
     },
     "execution_count": 259,
     "metadata": {},
     "output_type": "execute_result"
    }
   ],
   "source": [
    "y_train_full = df_train_full['fuel_efficiency_mpg'].values\n",
    "y_test_q6 = df_test_q6['fuel_efficiency_mpg'].values\n",
    "\n",
    "y_train_full, y_test_q6"
   ]
  },
  {
   "cell_type": "code",
   "execution_count": 260,
   "id": "9ff77c6f-c7ec-48ed-826b-46a3bfe7f4c1",
   "metadata": {},
   "outputs": [],
   "source": [
    "del df_train_full['fuel_efficiency_mpg']\n",
    "del df_test_q6['fuel_efficiency_mpg']"
   ]
  },
  {
   "cell_type": "code",
   "execution_count": 261,
   "id": "ca5674c9-9428-48f8-9962-cb6a7626013e",
   "metadata": {},
   "outputs": [
    {
     "data": {
      "text/plain": [
       "(array([[ 240.        ,  136.        , 4050.51228957, 2006.        ],\n",
       "        [ 190.        ,  141.        , 3195.86694158, 2017.        ],\n",
       "        [ 200.        ,  184.        , 3006.16436968, 2017.        ],\n",
       "        ...,\n",
       "        [ 180.        ,  154.        , 3346.96567067, 2018.        ],\n",
       "        [ 210.        ,  152.        , 2500.17568746, 2020.        ],\n",
       "        [ 260.        ,  174.        , 2702.25730066, 2011.        ]]),\n",
       " array([[ 240.        ,    0.        , 3629.91297555, 2003.        ],\n",
       "        [ 230.        ,  183.        , 2675.51037108, 2011.        ],\n",
       "        [ 270.        ,  176.        , 3751.00598701, 2017.        ],\n",
       "        ...,\n",
       "        [ 240.        ,  177.        , 3348.84005177, 2010.        ],\n",
       "        [ 250.        ,  150.        , 2985.70463023, 2022.        ],\n",
       "        [ 230.        ,  192.        , 3124.47364193, 2014.        ]]))"
      ]
     },
     "execution_count": 261,
     "metadata": {},
     "output_type": "execute_result"
    }
   ],
   "source": [
    "# Fill missing values with 0\n",
    "X_train_full = df_train_full.fillna(0).values\n",
    "X_test_q6 = df_test_q6.fillna(0).values\n",
    "\n",
    "X_train_full, X_test_q6"
   ]
  },
  {
   "cell_type": "code",
   "execution_count": 262,
   "id": "75604d84-ebf4-47f2-a43d-5903ec03bffa",
   "metadata": {},
   "outputs": [
    {
     "name": "stdout",
     "output_type": "stream",
     "text": [
      "RMSE on the test dataset with r=0.001 and seed=9: 0.516\n"
     ]
    }
   ],
   "source": [
    "# Train a model with r=0.001\n",
    "r_q6 = 0.001\n",
    "w0_q6, w_q6 = train_linear_regression_reg(X_train_full, y_train_full, r=r_q6)\n",
    "y_pred_q6 = w0_q6 + X_test_q6 @ w_q6\n",
    "\n",
    "# Round to 3 decimal places for comparison\n",
    "rmse_q6 = round(rmse(y_test_q6, y_pred_q6), 3)\n",
    "print(f\"RMSE on the test dataset with r={r_q6} and seed={seed_q6}: {rmse_q6}\")"
   ]
  },
  {
   "cell_type": "code",
   "execution_count": null,
   "id": "2cd03b79-b1db-43ec-8fb4-79948deb8964",
   "metadata": {},
   "outputs": [],
   "source": []
  }
 ],
 "metadata": {
  "kernelspec": {
   "display_name": "Python 3 (ipykernel)",
   "language": "python",
   "name": "python3"
  },
  "language_info": {
   "codemirror_mode": {
    "name": "ipython",
    "version": 3
   },
   "file_extension": ".py",
   "mimetype": "text/x-python",
   "name": "python",
   "nbconvert_exporter": "python",
   "pygments_lexer": "ipython3",
   "version": "3.8.7"
  }
 },
 "nbformat": 4,
 "nbformat_minor": 5
}
