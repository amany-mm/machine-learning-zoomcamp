{
 "cells": [
  {
   "cell_type": "markdown",
   "id": "e3335abe-fe18-4f8c-bb68-a21a42b6f68c",
   "metadata": {},
   "source": [
    "## Homework\n",
    "\n",
    "> Note: sometimes your answer doesn't match one of \n",
    "> the options exactly. That's fine. \n",
    "> Select the option that's closest to your solution.\n",
    "\n",
    "\n",
    "In this homework, we will use the lead scoring dataset Bank Marketing dataset. Download it from [here](https://raw.githubusercontent.com/alexeygrigorev/datasets/master/course_lead_scoring.csv).\n",
    "\n",
    "\n",
    "In this dataset our desired target for classification task will be `converted` variable - has the client signed up to the platform or not. \n",
    "\n",
    "### Data preparation\n",
    "\n",
    "* Check if the missing values are presented in the features.\n",
    "* If there are missing values:\n",
    "    * For caterogiral features, replace them with 'NA'\n",
    "    * For numerical features, replace with with 0.0 \n",
    "\n",
    "\n",
    "Split the data into 3 parts: train/validation/test with 60%/20%/20% distribution. Use `train_test_split` function for that with `random_state=1`\n"
   ]
  },
  {
   "cell_type": "code",
   "execution_count": 4,
   "id": "361bcbe7-cb1f-455e-8303-eb7d02f59e69",
   "metadata": {},
   "outputs": [],
   "source": [
    "import pandas as pd\n",
    "import numpy as np\n",
    "from sklearn.model_selection import train_test_split, KFold\n",
    "from sklearn.feature_extraction import DictVectorizer\n",
    "from sklearn.linear_model import LogisticRegression\n",
    "from sklearn.metrics import roc_auc_score, precision_recall_curve\n",
    "import matplotlib.pyplot as plt"
   ]
  },
  {
   "cell_type": "code",
   "execution_count": 5,
   "id": "a0537c5d-58ed-4c63-828a-5178136aee3a",
   "metadata": {},
   "outputs": [],
   "source": [
    "data = \"https://raw.githubusercontent.com/alexeygrigorev/datasets/master/course_lead_scoring.csv\""
   ]
  },
  {
   "cell_type": "code",
   "execution_count": 6,
   "id": "b58910a7-f798-494a-905b-5e3a1a5bda82",
   "metadata": {},
   "outputs": [
    {
     "name": "stdout",
     "output_type": "stream",
     "text": [
      "--2025-10-26 06:46:45--  https://raw.githubusercontent.com/alexeygrigorev/datasets/master/course_lead_scoring.csv\n",
      "Resolving raw.githubusercontent.com (raw.githubusercontent.com)... 185.199.111.133, 185.199.108.133, 185.199.109.133, ...\n",
      "connected. to raw.githubusercontent.com (raw.githubusercontent.com)|185.199.111.133|:443... \n",
      "HTTP request sent, awaiting response... 200 OK\n",
      "Length: 80876 (79K) [text/plain]\n",
      "Saving to: ‘course_lead_scoring.csv.3’\n",
      "\n",
      "course_lead_scoring 100%[===================>]  78.98K  --.-KB/s    in 0.1s    \n",
      "\n",
      "2025-10-26 06:46:45 (745 KB/s) - ‘course_lead_scoring.csv.3’ saved [80876/80876]\n",
      "\n"
     ]
    }
   ],
   "source": [
    "!wget $data "
   ]
  },
  {
   "cell_type": "code",
   "execution_count": 7,
   "id": "af8a962b-fe2d-4a76-b246-af88ab4200b9",
   "metadata": {},
   "outputs": [],
   "source": [
    "# ============================================================================\n",
    "# DATA PREPARATION\n",
    "# ============================================================================"
   ]
  },
  {
   "cell_type": "code",
   "execution_count": 8,
   "id": "75048a41-5931-4bc4-a4bd-9a57a730d4f6",
   "metadata": {},
   "outputs": [],
   "source": [
    "# Load the data"
   ]
  },
  {
   "cell_type": "code",
   "execution_count": 9,
   "id": "04b7be9b-3ef0-47b0-86af-c69a9432a12c",
   "metadata": {},
   "outputs": [],
   "source": [
    "df = pd.read_csv('course_lead_scoring.csv')"
   ]
  },
  {
   "cell_type": "code",
   "execution_count": 10,
   "id": "19e256e2-94b1-4960-97be-74e2bae8763d",
   "metadata": {},
   "outputs": [
    {
     "data": {
      "text/plain": [
       "lead_source                  object\n",
       "industry                     object\n",
       "number_of_courses_viewed      int64\n",
       "annual_income               float64\n",
       "employment_status            object\n",
       "location                     object\n",
       "interaction_count             int64\n",
       "lead_score                  float64\n",
       "converted                     int64\n",
       "dtype: object"
      ]
     },
     "execution_count": 10,
     "metadata": {},
     "output_type": "execute_result"
    }
   ],
   "source": [
    "df.dtypes"
   ]
  },
  {
   "cell_type": "code",
   "execution_count": 11,
   "id": "7c96a843-71d0-426f-af73-5e91805f254b",
   "metadata": {},
   "outputs": [
    {
     "name": "stdout",
     "output_type": "stream",
     "text": [
      "Missing values before handling:\n",
      "lead_source                 128\n",
      "industry                    134\n",
      "number_of_courses_viewed      0\n",
      "annual_income               181\n",
      "employment_status           100\n",
      "location                     63\n",
      "interaction_count             0\n",
      "lead_score                    0\n",
      "converted                     0\n",
      "dtype: int64\n"
     ]
    }
   ],
   "source": [
    "# Check for missing values\n",
    "print(\"Missing values before handling:\")\n",
    "print(df.isnull().sum())"
   ]
  },
  {
   "cell_type": "code",
   "execution_count": 12,
   "id": "3d8a233d-317c-4d49-bd59-fd776532a8f8",
   "metadata": {},
   "outputs": [],
   "source": [
    "# Identify numerical and categorical columns\n",
    "numerical_cols = df.select_dtypes(include=[np.number]).columns.tolist()\n",
    "categorical_cols = df.select_dtypes(include=['object']).columns.tolist()"
   ]
  },
  {
   "cell_type": "code",
   "execution_count": 14,
   "id": "e5463760-130e-4195-a852-c1c85781c608",
   "metadata": {},
   "outputs": [],
   "source": [
    "# Remove target variable from the lists if present\n",
    "if 'converted' in numerical_cols:\n",
    "    numerical_cols.remove('converted')\n",
    "if 'converted' in categorical_cols:\n",
    "    categorical_cols.remove('converted')"
   ]
  },
  {
   "cell_type": "code",
   "execution_count": 15,
   "id": "1ba5403e-d148-4f46-a8fd-dad3dbec8ccb",
   "metadata": {},
   "outputs": [],
   "source": [
    "# Fill missing values\n",
    "# For categorical features: replace with 'NA'\n",
    "for col in categorical_cols:\n",
    "    df[col] = df[col].fillna('NA')"
   ]
  },
  {
   "cell_type": "code",
   "execution_count": 19,
   "id": "a3b15663-53a1-40d3-8f8a-cc4bbccfed9a",
   "metadata": {},
   "outputs": [
    {
     "name": "stdout",
     "output_type": "stream",
     "text": [
      "Missing values after handling:\n",
      "lead_source                 0\n",
      "industry                    0\n",
      "number_of_courses_viewed    0\n",
      "annual_income               0\n",
      "employment_status           0\n",
      "location                    0\n",
      "interaction_count           0\n",
      "lead_score                  0\n",
      "converted                   0\n",
      "dtype: int64\n"
     ]
    }
   ],
   "source": [
    "# Fill missing values\n",
    "# For categorical features: replace with 'NA'\n",
    "for col in categorical_cols:\n",
    "    df[col] = df[col].fillna('NA')\n",
    "\n",
    "# For numerical features: replace with 0.0\n",
    "for col in numerical_cols:\n",
    "    df[col] = df[col].fillna(0.0)\n",
    "\n",
    "print(\"Missing values after handling:\")\n",
    "print(df.isnull().sum())"
   ]
  },
  {
   "cell_type": "code",
   "execution_count": 18,
   "id": "fb7c7fea-27a2-4bb7-97a4-c40ad0678957",
   "metadata": {},
   "outputs": [
    {
     "name": "stdout",
     "output_type": "stream",
     "text": [
      "Train size: 876 (59.9%)\n",
      "Validation size: 293 (20.0%)\n",
      "Test size: 293 (20.0%)\n"
     ]
    }
   ],
   "source": [
    "# Split the data: 60% train, 20% validation, 20% test\n",
    "df_full_train, df_test = train_test_split(df, test_size=0.2, random_state=1)\n",
    "df_train, df_val = train_test_split(df_full_train, test_size=0.25, random_state=1)\n",
    "\n",
    "print(f\"Train size: {len(df_train)} ({len(df_train)/len(df)*100:.1f}%)\")\n",
    "print(f\"Validation size: {len(df_val)} ({len(df_val)/len(df)*100:.1f}%)\")\n",
    "print(f\"Test size: {len(df_test)} ({len(df_test)/len(df)*100:.1f}%)\")"
   ]
  },
  {
   "cell_type": "markdown",
   "id": "6407aa45-1582-4ff1-b019-1e5c4aa33f50",
   "metadata": {},
   "source": [
    "# Question 1: ROC AUC feature importance\n",
    "ROC AUC could also be used to evaluate feature importance of numerical variables.\n",
    "\n",
    "Let's do that\n",
    "\n",
    "For each numerical variable, use it as score (aka prediction) and compute the AUC with the y variable as ground truth.\n",
    "Use the training dataset for that\n",
    "If your AUC is < 0.5, invert this variable by putting \"-\" in front\n",
    "\n",
    "(e.g. -df_train['balance'])\n",
    "\n",
    "AUC can go below 0.5 if the variable is negatively correlated with the target variable. You can change the direction of the correlation by negating this variable - then negative correlation becomes positive.\n",
    "\n",
    "Which numerical variable (among the following 4) has the highest AUC?\n",
    "\n",
    "- lead_score\n",
    "- number_of_courses_viewed\n",
    "- interaction_count\n",
    "- annual_income"
   ]
  },
  {
   "cell_type": "code",
   "execution_count": 20,
   "id": "09049276-e03b-4f87-91e4-63fafc8cc608",
   "metadata": {},
   "outputs": [],
   "source": [
    "numerical_features = ['lead_score', 'number_of_courses_viewed', \n",
    "                      'interaction_count', 'annual_income']\n",
    "y_train = df_train['converted'].values"
   ]
  },
  {
   "cell_type": "code",
   "execution_count": 22,
   "id": "4f84fdc7-5bc9-4a27-8a80-9936cbbbc0bd",
   "metadata": {},
   "outputs": [
    {
     "name": "stdout",
     "output_type": "stream",
     "text": [
      "lead_score: 0.6145\n",
      "number_of_courses_viewed: 0.7636\n",
      "interaction_count: 0.7383\n",
      "annual_income: 0.5520\n"
     ]
    }
   ],
   "source": [
    "auc_scores = {}\n",
    "for feature in numerical_features:\n",
    "    score = df_train[feature].values\n",
    "    auc = roc_auc_score(y_train, score)\n",
    "\n",
    "    # If AUC < 0.5, invert the variable\n",
    "    if auc < 0.5:\n",
    "        auc = roc_auc_score(y_train, -score)\n",
    "        print(f\"{feature}: {auc:.4f} (inverted)\")\n",
    "    else:\n",
    "        print(f\"{feature}: {auc:.4f}\")\n",
    "    \n",
    "    auc_scores[feature] = auc"
   ]
  },
  {
   "cell_type": "code",
   "execution_count": 23,
   "id": "ddc36ec2-c8c7-4ffe-9ee0-377979d3bc77",
   "metadata": {},
   "outputs": [
    {
     "name": "stdout",
     "output_type": "stream",
     "text": [
      "Best feature: number_of_courses_viewed with AUC: 0.7636\n"
     ]
    }
   ],
   "source": [
    "best_feature = max(auc_scores, key=auc_scores.get)\n",
    "print(f\"Best feature: {best_feature} with AUC: {auc_scores[best_feature]:.4f}\")"
   ]
  },
  {
   "cell_type": "markdown",
   "id": "f5931bd6-5874-4857-8acb-5ab027f25a06",
   "metadata": {},
   "source": [
    "# Question 2: Training the model\n",
    "Apply one-hot-encoding using DictVectorizer and train the logistic regression with these parameters:\n",
    "\n",
    "LogisticRegression(solver='liblinear', C=1.0, max_iter=1000)\n",
    "What's the AUC of this model on the validation dataset? (round to 3 digits)\n",
    "\n",
    "- 0.32\n",
    "- 0.52\n",
    "- 0.72\n",
    "- 0.92"
   ]
  },
  {
   "cell_type": "code",
   "execution_count": 24,
   "id": "cbef5c27-fe3e-4a65-a61a-b13f508da129",
   "metadata": {},
   "outputs": [],
   "source": [
    "# Prepare features (exclude target variable)\n",
    "feature_cols = [col for col in df_train.columns if col != 'converted']"
   ]
  },
  {
   "cell_type": "code",
   "execution_count": 25,
   "id": "228aa01d-1c37-49d0-b1ea-44ed8399403b",
   "metadata": {},
   "outputs": [],
   "source": [
    "# Convert to dictionaries for DictVectorizer\n",
    "train_dicts = df_train[feature_cols].to_dict(orient='records')\n",
    "val_dicts = df_val[feature_cols].to_dict(orient='records')"
   ]
  },
  {
   "cell_type": "code",
   "execution_count": 26,
   "id": "ce2fd2ac-543f-4b76-a64b-0172b25ec727",
   "metadata": {},
   "outputs": [],
   "source": [
    "# One-hot encoding\n",
    "dv = DictVectorizer(sparse=False)\n",
    "X_train = dv.fit_transform(train_dicts)\n",
    "X_val = dv.transform(val_dicts)"
   ]
  },
  {
   "cell_type": "code",
   "execution_count": 27,
   "id": "194d7318-ebf0-4647-a4e0-fac15e987f53",
   "metadata": {},
   "outputs": [],
   "source": [
    "# Target variables\n",
    "y_train = df_train['converted'].values\n",
    "y_val = df_val['converted'].values"
   ]
  },
  {
   "cell_type": "code",
   "execution_count": 28,
   "id": "c9890154-562e-40bc-a8ee-31f6a688753b",
   "metadata": {},
   "outputs": [
    {
     "data": {
      "text/html": [
       "<style>#sk-container-id-1 {color: black;}#sk-container-id-1 pre{padding: 0;}#sk-container-id-1 div.sk-toggleable {background-color: white;}#sk-container-id-1 label.sk-toggleable__label {cursor: pointer;display: block;width: 100%;margin-bottom: 0;padding: 0.3em;box-sizing: border-box;text-align: center;}#sk-container-id-1 label.sk-toggleable__label-arrow:before {content: \"▸\";float: left;margin-right: 0.25em;color: #696969;}#sk-container-id-1 label.sk-toggleable__label-arrow:hover:before {color: black;}#sk-container-id-1 div.sk-estimator:hover label.sk-toggleable__label-arrow:before {color: black;}#sk-container-id-1 div.sk-toggleable__content {max-height: 0;max-width: 0;overflow: hidden;text-align: left;background-color: #f0f8ff;}#sk-container-id-1 div.sk-toggleable__content pre {margin: 0.2em;color: black;border-radius: 0.25em;background-color: #f0f8ff;}#sk-container-id-1 input.sk-toggleable__control:checked~div.sk-toggleable__content {max-height: 200px;max-width: 100%;overflow: auto;}#sk-container-id-1 input.sk-toggleable__control:checked~label.sk-toggleable__label-arrow:before {content: \"▾\";}#sk-container-id-1 div.sk-estimator input.sk-toggleable__control:checked~label.sk-toggleable__label {background-color: #d4ebff;}#sk-container-id-1 div.sk-label input.sk-toggleable__control:checked~label.sk-toggleable__label {background-color: #d4ebff;}#sk-container-id-1 input.sk-hidden--visually {border: 0;clip: rect(1px 1px 1px 1px);clip: rect(1px, 1px, 1px, 1px);height: 1px;margin: -1px;overflow: hidden;padding: 0;position: absolute;width: 1px;}#sk-container-id-1 div.sk-estimator {font-family: monospace;background-color: #f0f8ff;border: 1px dotted black;border-radius: 0.25em;box-sizing: border-box;margin-bottom: 0.5em;}#sk-container-id-1 div.sk-estimator:hover {background-color: #d4ebff;}#sk-container-id-1 div.sk-parallel-item::after {content: \"\";width: 100%;border-bottom: 1px solid gray;flex-grow: 1;}#sk-container-id-1 div.sk-label:hover label.sk-toggleable__label {background-color: #d4ebff;}#sk-container-id-1 div.sk-serial::before {content: \"\";position: absolute;border-left: 1px solid gray;box-sizing: border-box;top: 0;bottom: 0;left: 50%;z-index: 0;}#sk-container-id-1 div.sk-serial {display: flex;flex-direction: column;align-items: center;background-color: white;padding-right: 0.2em;padding-left: 0.2em;position: relative;}#sk-container-id-1 div.sk-item {position: relative;z-index: 1;}#sk-container-id-1 div.sk-parallel {display: flex;align-items: stretch;justify-content: center;background-color: white;position: relative;}#sk-container-id-1 div.sk-item::before, #sk-container-id-1 div.sk-parallel-item::before {content: \"\";position: absolute;border-left: 1px solid gray;box-sizing: border-box;top: 0;bottom: 0;left: 50%;z-index: -1;}#sk-container-id-1 div.sk-parallel-item {display: flex;flex-direction: column;z-index: 1;position: relative;background-color: white;}#sk-container-id-1 div.sk-parallel-item:first-child::after {align-self: flex-end;width: 50%;}#sk-container-id-1 div.sk-parallel-item:last-child::after {align-self: flex-start;width: 50%;}#sk-container-id-1 div.sk-parallel-item:only-child::after {width: 0;}#sk-container-id-1 div.sk-dashed-wrapped {border: 1px dashed gray;margin: 0 0.4em 0.5em 0.4em;box-sizing: border-box;padding-bottom: 0.4em;background-color: white;}#sk-container-id-1 div.sk-label label {font-family: monospace;font-weight: bold;display: inline-block;line-height: 1.2em;}#sk-container-id-1 div.sk-label-container {text-align: center;}#sk-container-id-1 div.sk-container {/* jupyter's `normalize.less` sets `[hidden] { display: none; }` but bootstrap.min.css set `[hidden] { display: none !important; }` so we also need the `!important` here to be able to override the default hidden behavior on the sphinx rendered scikit-learn.org. See: https://github.com/scikit-learn/scikit-learn/issues/21755 */display: inline-block !important;position: relative;}#sk-container-id-1 div.sk-text-repr-fallback {display: none;}</style><div id=\"sk-container-id-1\" class=\"sk-top-container\"><div class=\"sk-text-repr-fallback\"><pre>LogisticRegression(max_iter=1000, solver=&#x27;liblinear&#x27;)</pre><b>In a Jupyter environment, please rerun this cell to show the HTML representation or trust the notebook. <br />On GitHub, the HTML representation is unable to render, please try loading this page with nbviewer.org.</b></div><div class=\"sk-container\" hidden><div class=\"sk-item\"><div class=\"sk-estimator sk-toggleable\"><input class=\"sk-toggleable__control sk-hidden--visually\" id=\"sk-estimator-id-1\" type=\"checkbox\" checked><label for=\"sk-estimator-id-1\" class=\"sk-toggleable__label sk-toggleable__label-arrow\">LogisticRegression</label><div class=\"sk-toggleable__content\"><pre>LogisticRegression(max_iter=1000, solver=&#x27;liblinear&#x27;)</pre></div></div></div></div></div>"
      ],
      "text/plain": [
       "LogisticRegression(max_iter=1000, solver='liblinear')"
      ]
     },
     "execution_count": 28,
     "metadata": {},
     "output_type": "execute_result"
    }
   ],
   "source": [
    "# Train the model\n",
    "model = LogisticRegression(solver='liblinear', C=1.0, max_iter=1000)\n",
    "model.fit(X_train, y_train)"
   ]
  },
  {
   "cell_type": "code",
   "execution_count": 29,
   "id": "23a3f926-4437-4973-95eb-a42df60b9390",
   "metadata": {},
   "outputs": [],
   "source": [
    "# Predict probabilities\n",
    "y_pred = model.predict_proba(X_val)[:, 1]"
   ]
  },
  {
   "cell_type": "code",
   "execution_count": 30,
   "id": "bcfe3f0d-4bfa-45cc-be78-77fd4de75957",
   "metadata": {},
   "outputs": [
    {
     "name": "stdout",
     "output_type": "stream",
     "text": [
      "Validation AUC: 0.817\n"
     ]
    }
   ],
   "source": [
    "# Calculate AUC\n",
    "auc = roc_auc_score(y_val, y_pred)\n",
    "print(f\"Validation AUC: {auc:.3f}\")"
   ]
  },
  {
   "cell_type": "markdown",
   "id": "c76078e1-f5e1-4609-8b38-75f1baa398f7",
   "metadata": {},
   "source": [
    "# Question 3: Precision and Recall\n",
    "Now let's compute precision and recall for our model.\n",
    "\n",
    "Evaluate the model on all thresholds from 0.0 to 1.0 with step 0.01\n",
    "For each threshold, compute precision and recall\n",
    "Plot them\n",
    "At which threshold precision and recall curves intersect?\n",
    "\n",
    "- 0.145\n",
    "- 0.345\n",
    "- 0.545\n",
    "- 0.745\n"
   ]
  },
  {
   "cell_type": "code",
   "execution_count": 31,
   "id": "bb4e1212-acb4-47db-b169-2b4c60fa0bdc",
   "metadata": {},
   "outputs": [],
   "source": [
    "thresholds = np.arange(0.0, 1.01, 0.01)\n",
    "precisions = []\n",
    "recalls = []"
   ]
  },
  {
   "cell_type": "code",
   "execution_count": 32,
   "id": "1cbf4040-cccd-48da-8304-65cea954323b",
   "metadata": {},
   "outputs": [],
   "source": [
    "for threshold in thresholds:\n",
    "    # Apply threshold\n",
    "    y_pred_binary = (y_pred >= threshold).astype(int)\n",
    "    \n",
    "    # Calculate True Positives, False Positives, False Negatives\n",
    "    tp = ((y_pred_binary == 1) & (y_val == 1)).sum()\n",
    "    fp = ((y_pred_binary == 1) & (y_val == 0)).sum()\n",
    "    fn = ((y_pred_binary == 0) & (y_val == 1)).sum()\n",
    "    \n",
    "    # Calculate precision and recall\n",
    "    precision = tp / (tp + fp) if (tp + fp) > 0 else 0\n",
    "    recall = tp / (tp + fn) if (tp + fn) > 0 else 0\n",
    "    \n",
    "    precisions.append(precision)\n",
    "    recalls.append(recall)"
   ]
  },
  {
   "cell_type": "code",
   "execution_count": 34,
   "id": "3841bfb0-4d96-4f20-b52e-0d3b180951a9",
   "metadata": {},
   "outputs": [
    {
     "data": {
      "image/png": "[encoded data removed]",
      "text/plain": [
       "<Figure size 1000x600 with 1 Axes>"
      ]
     },
     "metadata": {},
     "output_type": "display_data"
    }
   ],
   "source": [
    "# Plot\n",
    "plt.figure(figsize=(10, 6))\n",
    "plt.plot(thresholds, precisions, label='Precision', linewidth=2)\n",
    "plt.plot(thresholds, recalls, label='Recall', linewidth=2)\n",
    "plt.xlabel('Threshold')\n",
    "plt.ylabel('Score')\n",
    "plt.title('Precision and Recall vs Threshold')\n",
    "plt.legend()\n",
    "plt.grid(True, alpha=0.3)\n",
    "plt.show()"
   ]
  },
  {
   "cell_type": "code",
   "execution_count": 35,
   "id": "2c84754b-38bb-4366-96bb-5f68624df263",
   "metadata": {},
   "outputs": [],
   "source": [
    "# Find intersection point\n",
    "precisions = np.array(precisions)\n",
    "recalls = np.array(recalls)\n",
    "differences = np.abs(precisions - recalls)\n",
    "intersection_idx = np.argmin(differences)\n",
    "intersection_threshold = thresholds[intersection_idx]\n"
   ]
  },
  {
   "cell_type": "code",
   "execution_count": 36,
   "id": "de2a54c1-73e0-4a4d-bac9-d50940822b71",
   "metadata": {},
   "outputs": [
    {
     "name": "stdout",
     "output_type": "stream",
     "text": [
      "Precision and Recall intersect at threshold: 0.980\n",
      "Precision at intersection: 0.000\n",
      "Recall at intersection: 0.000\n"
     ]
    }
   ],
   "source": [
    "\n",
    "print(f\"Precision and Recall intersect at threshold: {intersection_threshold:.3f}\")\n",
    "print(f\"Precision at intersection: {precisions[intersection_idx]:.3f}\")\n",
    "print(f\"Recall at intersection: {recalls[intersection_idx]:.3f}\")"
   ]
  },
  {
   "cell_type": "markdown",
   "id": "9c64812c-f463-49da-8d92-6c6550582954",
   "metadata": {},
   "source": [
    "# Question 4: F1 score\n",
    "Precision and recall are conflicting - when one grows, the other goes down. That's why they are often combined into the F1 score - a metrics that takes into account both\n",
    "\n",
    "This is the formula for computing F1:\n",
    "\n",
    "F1 = 2 ⋅ ((P ⋅ R)/(P + R))\n",
    "\n",
    "Where P is precision and \n",
    "R is recall.\n",
    "\n",
    "Let's compute F1 for all thresholds from 0.0 to 1.0 with increment 0.01\n",
    "\n",
    "At which threshold F1 is maximal?\n",
    "\n",
    "- 0.14\n",
    "- 0.34\n",
    "- 0.54\n",
    "- 0.74"
   ]
  },
  {
   "cell_type": "code",
   "execution_count": 37,
   "id": "8bda7a56-868e-45a4-9355-844fb05f6c1e",
   "metadata": {},
   "outputs": [],
   "source": [
    "thresholds = np.arange(0.0, 1.01, 0.01)\n",
    "f1_scores = []"
   ]
  },
  {
   "cell_type": "code",
   "execution_count": 38,
   "id": "85b25b8a-39a6-4c99-9d20-328d0d16c7b7",
   "metadata": {},
   "outputs": [],
   "source": [
    "for threshold in thresholds:\n",
    "    # Apply threshold\n",
    "    y_pred_binary = (y_pred >= threshold).astype(int)\n",
    "    \n",
    "    # Calculate True Positives, False Positives, False Negatives\n",
    "    tp = ((y_pred_binary == 1) & (y_val == 1)).sum()\n",
    "    fp = ((y_pred_binary == 1) & (y_val == 0)).sum()\n",
    "    fn = ((y_pred_binary == 0) & (y_val == 1)).sum()\n",
    "    \n",
    "    # Calculate precision and recall\n",
    "    precision = tp / (tp + fp) if (tp + fp) > 0 else 0\n",
    "    recall = tp / (tp + fn) if (tp + fn) > 0 else 0\n",
    "    \n",
    "    # Calculate F1 score\n",
    "    f1 = 2 * precision * recall / (precision + recall) if (precision + recall) > 0 else 0\n",
    "    f1_scores.append(f1)"
   ]
  },
  {
   "cell_type": "code",
   "execution_count": 39,
   "id": "a70f9aaf-fc3c-4731-a779-51059317cb69",
   "metadata": {},
   "outputs": [
    {
     "data": {
      "image/png": "[encoded data removed]",
      "text/plain": [
       "<Figure size 1000x600 with 1 Axes>"
      ]
     },
     "metadata": {},
     "output_type": "display_data"
    }
   ],
   "source": [
    "# Plot F1 scores\n",
    "plt.figure(figsize=(10, 6))\n",
    "plt.plot(thresholds, f1_scores, linewidth=2)\n",
    "plt.xlabel('Threshold')\n",
    "plt.ylabel('F1 Score')\n",
    "plt.title('F1 Score vs Threshold')\n",
    "plt.grid(True, alpha=0.3)\n",
    "plt.show()"
   ]
  },
  {
   "cell_type": "code",
   "execution_count": 40,
   "id": "ee457b20-6187-4f48-a8cb-c0a86ff0834a",
   "metadata": {},
   "outputs": [],
   "source": [
    "# Find maximum F1 score\n",
    "max_f1_idx = np.argmax(f1_scores)\n",
    "best_threshold = thresholds[max_f1_idx]\n",
    "max_f1 = f1_scores[max_f1_idx]"
   ]
  },
  {
   "cell_type": "code",
   "execution_count": 41,
   "id": "cadae056-aa7e-4453-951a-93fe94bfc08c",
   "metadata": {},
   "outputs": [
    {
     "name": "stdout",
     "output_type": "stream",
     "text": [
      "Best F1 threshold: 0.57\n",
      "Maximum F1 score: 0.812\n"
     ]
    }
   ],
   "source": [
    "print(f\"Best F1 threshold: {best_threshold:.2f}\")\n",
    "print(f\"Maximum F1 score: {max_f1:.3f}\")"
   ]
  },
  {
   "cell_type": "markdown",
   "id": "886f8b4f-a5d5-4f20-b531-9ead5b678ea3",
   "metadata": {},
   "source": [
    "# Question 5: 5-Fold CV\n",
    "Use the KFold class from Scikit-Learn to evaluate our model on 5 different folds:\n",
    "\n",
    "KFold(n_splits=5, shuffle=True, random_state=1)\n",
    "Iterate over different folds of df_full_train\n",
    "Split the data into train and validation\n",
    "Train the model on train with these parameters: LogisticRegression(solver='liblinear', C=1.0, max_iter=1000)\n",
    "Use AUC to evaluate the model on validation\n",
    "How large is standard deviation of the scores across different folds?\n",
    "\n",
    "- 0.0001\n",
    "- 0.006\n",
    "- 0.06\n",
    "- 0.36"
   ]
  },
  {
   "cell_type": "code",
   "execution_count": 42,
   "id": "eac355e5-2a6e-470b-8d9b-f79812ab8faa",
   "metadata": {},
   "outputs": [],
   "source": [
    "kfold = KFold(n_splits=5, shuffle=True, random_state=1)\n"
   ]
  },
  {
   "cell_type": "code",
   "execution_count": 43,
   "id": "9e555eaa-aeb1-4b49-a346-46597a81ddae",
   "metadata": {},
   "outputs": [],
   "source": [
    "# Prepare features\n",
    "feature_cols = [col for col in df_full_train.columns if col != 'converted']\n",
    "X = df_full_train[feature_cols]\n",
    "y = df_full_train['converted'].values"
   ]
  },
  {
   "cell_type": "code",
   "execution_count": 44,
   "id": "ca10548e-ba2c-4aa8-a4b2-e976aeeb20da",
   "metadata": {},
   "outputs": [
    {
     "name": "stdout",
     "output_type": "stream",
     "text": [
      "Fold 1: AUC = 0.8061\n",
      "Fold 2: AUC = 0.8714\n",
      "Fold 3: AUC = 0.7754\n",
      "Fold 4: AUC = 0.8018\n",
      "Fold 5: AUC = 0.8558\n"
     ]
    }
   ],
   "source": [
    "scores = []\n",
    "\n",
    "for fold, (train_idx, val_idx) in enumerate(kfold.split(X), 1):\n",
    "    # Split data\n",
    "    df_train_fold = df_full_train.iloc[train_idx]\n",
    "    df_val_fold = df_full_train.iloc[val_idx]\n",
    "    \n",
    "    # Convert to dictionaries\n",
    "    train_dicts = df_train_fold[feature_cols].to_dict(orient='records')\n",
    "    val_dicts = df_val_fold[feature_cols].to_dict(orient='records')\n",
    "    \n",
    "    # One-hot encoding\n",
    "    dv = DictVectorizer(sparse=False)\n",
    "    X_train = dv.fit_transform(train_dicts)\n",
    "    X_val = dv.transform(val_dicts)\n",
    "    \n",
    "    # Target variables\n",
    "    y_train_fold = df_train_fold['converted'].values\n",
    "    y_val_fold = df_val_fold['converted'].values\n",
    "    \n",
    "    # Train model\n",
    "    model = LogisticRegression(solver='liblinear', C=1.0, max_iter=1000)\n",
    "    model.fit(X_train, y_train_fold)\n",
    "    \n",
    "    # Predict and evaluate\n",
    "    y_pred_fold = model.predict_proba(X_val)[:, 1]\n",
    "    auc = roc_auc_score(y_val_fold, y_pred_fold)\n",
    "    scores.append(auc)\n",
    "    \n",
    "    print(f\"Fold {fold}: AUC = {auc:.4f}\")"
   ]
  },
  {
   "cell_type": "code",
   "execution_count": 45,
   "id": "5f86d6d8-43f1-4906-9d89-b478d62a5b40",
   "metadata": {},
   "outputs": [],
   "source": [
    "mean_score = np.mean(scores)\n",
    "std_score = np.std(scores)"
   ]
  },
  {
   "cell_type": "code",
   "execution_count": 47,
   "id": "d8274c17-dcbe-4354-986a-a7af963d54b4",
   "metadata": {},
   "outputs": [
    {
     "name": "stdout",
     "output_type": "stream",
     "text": [
      "Mean AUC: 0.8221\n",
      "Standard Deviation: 0.0358\n"
     ]
    }
   ],
   "source": [
    "print(f\"Mean AUC: {mean_score:.4f}\")\n",
    "print(f\"Standard Deviation: {std_score:.4f}\")"
   ]
  },
  {
   "cell_type": "markdown",
   "id": "7f67e55b-a196-4652-98ea-9e4b1c5e8e5e",
   "metadata": {},
   "source": [
    "# Question 6: Hyperparameter Tuning\n",
    "Now let's use 5-Fold cross-validation to find the best parameter C\n",
    "\n",
    "Iterate over the following C values: [0.000001, 0.001, 1]\n",
    "Initialize KFold with the same parameters as previously\n",
    "Use these parameters for the model: LogisticRegression(solver='liblinear', C=C, max_iter=1000)\n",
    "Compute the mean score as well as the std (round the mean and std to 3 decimal digits)\n",
    "Which C leads to the best mean score?\n",
    "\n",
    "- 0.000001\n",
    "- 0.001\n",
    "- 1\n",
    "\n",
    "If you have ties, select the score with the lowest std. If you still have ties, select the smallest C."
   ]
  },
  {
   "cell_type": "code",
   "execution_count": 50,
   "id": "91a65564-9f94-4558-b9fa-427c0a65ea79",
   "metadata": {},
   "outputs": [],
   "source": [
    "kfold = KFold(n_splits=5, shuffle=True, random_state=1)\n",
    "C_values = [0.000001, 0.001, 1]"
   ]
  },
  {
   "cell_type": "code",
   "execution_count": 51,
   "id": "8ac6b013-62b6-4109-bf21-dd6466bc4e86",
   "metadata": {},
   "outputs": [],
   "source": [
    "# Prepare features\n",
    "feature_cols = [col for col in df_full_train.columns if col != 'converted']\n",
    "X = df_full_train[feature_cols]\n",
    "y = df_full_train['converted'].values"
   ]
  },
  {
   "cell_type": "code",
   "execution_count": 52,
   "id": "28568efc-28f2-43b1-b8e9-51eb6df64a4e",
   "metadata": {},
   "outputs": [
    {
     "name": "stdout",
     "output_type": "stream",
     "text": [
      "\n",
      "==================================================\n",
      "Testing C = 1e-06\n",
      "==================================================\n",
      "Fold 1: AUC = 0.5572\n",
      "Fold 2: AUC = 0.5192\n",
      "Fold 3: AUC = 0.5895\n",
      "Fold 4: AUC = 0.5582\n",
      "Fold 5: AUC = 0.5769\n",
      "\n",
      "C = 1e-06\n",
      "Mean AUC: 0.560\n",
      "Std AUC: 0.024\n",
      "\n",
      "==================================================\n",
      "Testing C = 0.001\n",
      "==================================================\n",
      "Fold 1: AUC = 0.8609\n",
      "Fold 2: AUC = 0.8967\n",
      "Fold 3: AUC = 0.8228\n",
      "Fold 4: AUC = 0.8540\n",
      "Fold 5: AUC = 0.9000\n",
      "\n",
      "C = 0.001\n",
      "Mean AUC: 0.867\n",
      "Std AUC: 0.029\n",
      "\n",
      "==================================================\n",
      "Testing C = 1\n",
      "==================================================\n",
      "Fold 1: AUC = 0.8061\n",
      "Fold 2: AUC = 0.8714\n",
      "Fold 3: AUC = 0.7754\n",
      "Fold 4: AUC = 0.8018\n",
      "Fold 5: AUC = 0.8558\n",
      "\n",
      "C = 1\n",
      "Mean AUC: 0.822\n",
      "Std AUC: 0.036\n"
     ]
    }
   ],
   "source": [
    "results = []\n",
    "\n",
    "for C in C_values:\n",
    "    print(f\"\\n{'='*50}\")\n",
    "    print(f\"Testing C = {C}\")\n",
    "    print('='*50)\n",
    "    \n",
    "    scores = []\n",
    "    \n",
    "    for fold, (train_idx, val_idx) in enumerate(kfold.split(X), 1):\n",
    "        # Split data\n",
    "        df_train_fold = df_full_train.iloc[train_idx]\n",
    "        df_val_fold = df_full_train.iloc[val_idx]\n",
    "        \n",
    "        # Convert to dictionaries\n",
    "        train_dicts = df_train_fold[feature_cols].to_dict(orient='records')\n",
    "        val_dicts = df_val_fold[feature_cols].to_dict(orient='records')\n",
    "        \n",
    "        # One-hot encoding\n",
    "        dv = DictVectorizer(sparse=False)\n",
    "        X_train = dv.fit_transform(train_dicts)\n",
    "        X_val = dv.transform(val_dicts)\n",
    "        \n",
    "        # Target variables\n",
    "        y_train_fold = df_train_fold['converted'].values\n",
    "        y_val_fold = df_val_fold['converted'].values\n",
    "        \n",
    "        # Train model with current C\n",
    "        model = LogisticRegression(solver='liblinear', C=C, max_iter=1000)\n",
    "        model.fit(X_train, y_train_fold)\n",
    "        \n",
    "        # Predict and evaluate\n",
    "        y_pred_fold = model.predict_proba(X_val)[:, 1]\n",
    "        auc = roc_auc_score(y_val_fold, y_pred_fold)\n",
    "        scores.append(auc)\n",
    "        \n",
    "        print(f\"Fold {fold}: AUC = {auc:.4f}\")\n",
    "    \n",
    "    mean_score = np.mean(scores)\n",
    "    std_score = np.std(scores)\n",
    "    \n",
    "    print(f\"\\nC = {C}\")\n",
    "    print(f\"Mean AUC: {mean_score:.3f}\")\n",
    "    print(f\"Std AUC: {std_score:.3f}\")\n",
    "    \n",
    "    results.append({\n",
    "        'C': C,\n",
    "        'mean_auc': round(mean_score, 3),\n",
    "        'std_auc': round(std_score, 3)\n",
    "    })"
   ]
  },
  {
   "cell_type": "code",
   "execution_count": 55,
   "id": "bea56252-1405-45ee-b1ef-ad1b93861d52",
   "metadata": {},
   "outputs": [
    {
     "name": "stdout",
     "output_type": "stream",
     "text": [
      "\n",
      "==================================================\n",
      "SUMMARY\n",
      "==================================================\n",
      "          C  mean_auc  std_auc\n",
      "0  0.000001     0.560    0.024\n",
      "1  0.001000     0.867    0.029\n",
      "2  1.000000     0.822    0.036\n"
     ]
    }
   ],
   "source": [
    "# Find best C\n",
    "print(f\"\\n{'='*50}\")\n",
    "print(\"SUMMARY\")\n",
    "print('='*50)\n",
    "\n",
    "results_df = pd.DataFrame(results)\n",
    "print(results_df)"
   ]
  },
  {
   "cell_type": "code",
   "execution_count": 56,
   "id": "9c10db7e-ada2-4c9d-9f63-8de7259aaace",
   "metadata": {},
   "outputs": [],
   "source": [
    "# Best C: highest mean, then lowest std, then smallest C\n",
    "best_result = max(results, key=lambda x: (x['mean_auc'], -x['std_auc'], -x['C']))"
   ]
  },
  {
   "cell_type": "code",
   "execution_count": 58,
   "id": "f8f34ced-33c4-40c2-8f26-4006e6584ec1",
   "metadata": {},
   "outputs": [
    {
     "name": "stdout",
     "output_type": "stream",
     "text": [
      "Best C: 0.001\n",
      "Mean AUC: 0.867\n",
      "Std AUC: 0.029\n"
     ]
    }
   ],
   "source": [
    "print(f\"Best C: {best_result['C']}\")\n",
    "print(f\"Mean AUC: {best_result['mean_auc']}\")\n",
    "print(f\"Std AUC: {best_result['std_auc']}\")"
   ]
  },
  {
   "cell_type": "code",
   "execution_count": null,
   "id": "dad77a72-6f6f-41ff-8e39-74c5568ac341",
   "metadata": {},
   "outputs": [],
   "source": []
  }
 ],
 "metadata": {
  "kernelspec": {
   "display_name": "Python 3 (ipykernel)",
   "language": "python",
   "name": "python3"
  },
  "language_info": {
   "codemirror_mode": {
    "name": "ipython",
    "version": 3
   },
   "file_extension": ".py",
   "mimetype": "text/x-python",
   "name": "python",
   "nbconvert_exporter": "python",
   "pygments_lexer": "ipython3",
   "version": "3.8.7"
  }
 },
 "nbformat": 4,
 "nbformat_minor": 5
}
